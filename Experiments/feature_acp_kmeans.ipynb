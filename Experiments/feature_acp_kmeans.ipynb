{
 "cells": [
  {
   "cell_type": "code",
   "execution_count": 1,
   "metadata": {},
   "outputs": [
    {
     "name": "stdout",
     "output_type": "stream",
     "text": [
      "Collecting prince\n",
      "  Downloading prince-0.13.0-py3-none-any.whl (415 kB)\n",
      "     ---------------------------------------- 0.0/415.6 kB ? eta -:--:--\n",
      "     ----------- -------------------------- 122.9/415.6 kB 7.5 MB/s eta 0:00:01\n",
      "     -------------------------------------  409.6/415.6 kB 5.1 MB/s eta 0:00:01\n",
      "     -------------------------------------- 415.6/415.6 kB 4.4 MB/s eta 0:00:00\n",
      "Requirement already satisfied: scikit-learn<2.0.0,>=1.0.2 in c:\\users\\akli\\appdata\\local\\programs\\python\\python310\\lib\\site-packages (from prince) (1.2.0)\n",
      "Requirement already satisfied: pandas<3.0.0,>=1.4.1 in c:\\users\\akli\\appdata\\local\\programs\\python\\python310\\lib\\site-packages (from prince) (1.5.2)\n",
      "Collecting altair<6.0.0,>=4.2.2\n",
      "  Downloading altair-5.2.0-py3-none-any.whl (996 kB)\n",
      "     ---------------------------------------- 0.0/996.9 kB ? eta -:--:--\n",
      "     ------------- -------------------------- 337.9/996.9 kB ? eta -:--:--\n",
      "     --------------------- ---------------- 553.0/996.9 kB 5.8 MB/s eta 0:00:01\n",
      "     -------------------------------- ----- 849.9/996.9 kB 6.0 MB/s eta 0:00:01\n",
      "     -------------------------------------- 996.9/996.9 kB 4.5 MB/s eta 0:00:00\n",
      "Requirement already satisfied: numpy in c:\\users\\akli\\appdata\\local\\programs\\python\\python310\\lib\\site-packages (from altair<6.0.0,>=4.2.2->prince) (1.23.4)\n",
      "Requirement already satisfied: typing-extensions>=4.0.1 in c:\\users\\akli\\appdata\\local\\programs\\python\\python310\\lib\\site-packages (from altair<6.0.0,>=4.2.2->prince) (4.4.0)\n",
      "Requirement already satisfied: jinja2 in c:\\users\\akli\\appdata\\local\\programs\\python\\python310\\lib\\site-packages (from altair<6.0.0,>=4.2.2->prince) (3.1.2)\n",
      "Collecting toolz\n",
      "  Downloading toolz-0.12.0-py3-none-any.whl (55 kB)\n",
      "     ---------------------------------------- 0.0/55.8 kB ? eta -:--:--\n",
      "     ---------------------------------------- 55.8/55.8 kB 2.8 MB/s eta 0:00:00\n",
      "Collecting jsonschema>=3.0\n",
      "  Downloading jsonschema-4.20.0-py3-none-any.whl (84 kB)\n",
      "     ---------------------------------------- 0.0/84.7 kB ? eta -:--:--\n",
      "     ---------------------------------------- 84.7/84.7 kB ? eta 0:00:00\n",
      "Requirement already satisfied: packaging in c:\\users\\akli\\appdata\\local\\programs\\python\\python310\\lib\\site-packages (from altair<6.0.0,>=4.2.2->prince) (22.0)\n",
      "Requirement already satisfied: python-dateutil>=2.8.1 in c:\\users\\akli\\appdata\\local\\programs\\python\\python310\\lib\\site-packages (from pandas<3.0.0,>=1.4.1->prince) (2.8.2)\n",
      "Requirement already satisfied: pytz>=2020.1 in c:\\users\\akli\\appdata\\local\\programs\\python\\python310\\lib\\site-packages (from pandas<3.0.0,>=1.4.1->prince) (2022.2.1)\n",
      "Requirement already satisfied: threadpoolctl>=2.0.0 in c:\\users\\akli\\appdata\\local\\programs\\python\\python310\\lib\\site-packages (from scikit-learn<2.0.0,>=1.0.2->prince) (3.1.0)\n",
      "Requirement already satisfied: joblib>=1.1.1 in c:\\users\\akli\\appdata\\local\\programs\\python\\python310\\lib\\site-packages (from scikit-learn<2.0.0,>=1.0.2->prince) (1.2.0)\n",
      "Requirement already satisfied: scipy>=1.3.2 in c:\\users\\akli\\appdata\\local\\programs\\python\\python310\\lib\\site-packages (from scikit-learn<2.0.0,>=1.0.2->prince) (1.9.3)\n",
      "Collecting referencing>=0.28.4\n",
      "  Downloading referencing-0.31.1-py3-none-any.whl (25 kB)\n",
      "Collecting rpds-py>=0.7.1\n",
      "  Downloading rpds_py-0.13.2-cp310-none-win_amd64.whl (188 kB)\n",
      "     ---------------------------------------- 0.0/188.9 kB ? eta -:--:--\n",
      "     ---------------------------- --------- 143.4/188.9 kB 4.3 MB/s eta 0:00:01\n",
      "     -------------------------------------- 188.9/188.9 kB 2.8 MB/s eta 0:00:00\n",
      "Requirement already satisfied: attrs>=22.2.0 in c:\\users\\akli\\appdata\\local\\programs\\python\\python310\\lib\\site-packages (from jsonschema>=3.0->altair<6.0.0,>=4.2.2->prince) (23.1.0)\n",
      "Collecting jsonschema-specifications>=2023.03.6\n",
      "  Downloading jsonschema_specifications-2023.11.1-py3-none-any.whl (17 kB)\n",
      "Requirement already satisfied: six>=1.5 in c:\\users\\akli\\appdata\\local\\programs\\python\\python310\\lib\\site-packages (from python-dateutil>=2.8.1->pandas<3.0.0,>=1.4.1->prince) (1.16.0)\n",
      "Requirement already satisfied: MarkupSafe>=2.0 in c:\\users\\akli\\appdata\\local\\programs\\python\\python310\\lib\\site-packages (from jinja2->altair<6.0.0,>=4.2.2->prince) (2.1.1)\n",
      "Installing collected packages: toolz, rpds-py, referencing, jsonschema-specifications, jsonschema, altair, prince\n",
      "Successfully installed altair-5.2.0 jsonschema-4.20.0 jsonschema-specifications-2023.11.1 prince-0.13.0 referencing-0.31.1 rpds-py-0.13.2 toolz-0.12.0\n"
     ]
    },
    {
     "name": "stderr",
     "output_type": "stream",
     "text": [
      "\n",
      "[notice] A new release of pip is available: 23.0.1 -> 23.3.1\n",
      "[notice] To update, run: python.exe -m pip install --upgrade pip\n"
     ]
    },
    {
     "name": "stdout",
     "output_type": "stream",
     "text": [
      "Collecting sentence-transformers\n",
      "  Downloading sentence-transformers-2.2.2.tar.gz (85 kB)\n",
      "     ---------------------------------------- 0.0/86.0 kB ? eta -:--:--\n",
      "     --------------------------------- ------ 71.7/86.0 kB 3.8 MB/s eta 0:00:01\n",
      "     -------------------------------------- 86.0/86.0 kB 805.5 kB/s eta 0:00:00\n",
      "  Preparing metadata (setup.py): started\n",
      "  Preparing metadata (setup.py): finished with status 'done'\n",
      "Requirement already satisfied: transformers<5.0.0,>=4.6.0 in c:\\users\\akli\\appdata\\local\\programs\\python\\python310\\lib\\site-packages (from sentence-transformers) (4.26.0)\n",
      "Requirement already satisfied: tqdm in c:\\users\\akli\\appdata\\local\\programs\\python\\python310\\lib\\site-packages (from sentence-transformers) (4.64.1)\n",
      "Requirement already satisfied: torch>=1.6.0 in c:\\users\\akli\\appdata\\local\\programs\\python\\python310\\lib\\site-packages (from sentence-transformers) (1.13.1)\n",
      "Requirement already satisfied: torchvision in c:\\users\\akli\\appdata\\local\\programs\\python\\python310\\lib\\site-packages (from sentence-transformers) (0.14.1)\n",
      "Requirement already satisfied: numpy in c:\\users\\akli\\appdata\\local\\programs\\python\\python310\\lib\\site-packages (from sentence-transformers) (1.23.4)\n",
      "Requirement already satisfied: scikit-learn in c:\\users\\akli\\appdata\\local\\programs\\python\\python310\\lib\\site-packages (from sentence-transformers) (1.2.0)\n",
      "Requirement already satisfied: scipy in c:\\users\\akli\\appdata\\local\\programs\\python\\python310\\lib\\site-packages (from sentence-transformers) (1.9.3)\n",
      "Requirement already satisfied: nltk in c:\\users\\akli\\appdata\\local\\programs\\python\\python310\\lib\\site-packages (from sentence-transformers) (3.7)\n",
      "Requirement already satisfied: sentencepiece in c:\\users\\akli\\appdata\\local\\programs\\python\\python310\\lib\\site-packages (from sentence-transformers) (0.1.97)\n",
      "Requirement already satisfied: huggingface-hub>=0.4.0 in c:\\users\\akli\\appdata\\local\\programs\\python\\python310\\lib\\site-packages (from sentence-transformers) (0.12.0)\n",
      "Requirement already satisfied: packaging>=20.9 in c:\\users\\akli\\appdata\\local\\programs\\python\\python310\\lib\\site-packages (from huggingface-hub>=0.4.0->sentence-transformers) (22.0)\n",
      "Requirement already satisfied: filelock in c:\\users\\akli\\appdata\\roaming\\python\\python310\\site-packages (from huggingface-hub>=0.4.0->sentence-transformers) (3.7.1)\n",
      "Requirement already satisfied: requests in c:\\users\\akli\\appdata\\local\\programs\\python\\python310\\lib\\site-packages (from huggingface-hub>=0.4.0->sentence-transformers) (2.28.1)\n",
      "Requirement already satisfied: typing-extensions>=3.7.4.3 in c:\\users\\akli\\appdata\\local\\programs\\python\\python310\\lib\\site-packages (from huggingface-hub>=0.4.0->sentence-transformers) (4.4.0)\n",
      "Requirement already satisfied: pyyaml>=5.1 in c:\\users\\akli\\appdata\\local\\programs\\python\\python310\\lib\\site-packages (from huggingface-hub>=0.4.0->sentence-transformers) (6.0)\n",
      "Requirement already satisfied: colorama in c:\\users\\akli\\appdata\\local\\programs\\python\\python310\\lib\\site-packages (from tqdm->sentence-transformers) (0.4.5)\n",
      "Requirement already satisfied: regex!=2019.12.17 in c:\\users\\akli\\appdata\\local\\programs\\python\\python310\\lib\\site-packages (from transformers<5.0.0,>=4.6.0->sentence-transformers) (2022.10.31)\n",
      "Requirement already satisfied: tokenizers!=0.11.3,<0.14,>=0.11.1 in c:\\users\\akli\\appdata\\local\\programs\\python\\python310\\lib\\site-packages (from transformers<5.0.0,>=4.6.0->sentence-transformers) (0.13.2)\n",
      "Requirement already satisfied: joblib in c:\\users\\akli\\appdata\\local\\programs\\python\\python310\\lib\\site-packages (from nltk->sentence-transformers) (1.2.0)\n",
      "Requirement already satisfied: click in c:\\users\\akli\\appdata\\local\\programs\\python\\python310\\lib\\site-packages (from nltk->sentence-transformers) (8.1.3)\n",
      "Requirement already satisfied: threadpoolctl>=2.0.0 in c:\\users\\akli\\appdata\\local\\programs\\python\\python310\\lib\\site-packages (from scikit-learn->sentence-transformers) (3.1.0)\n",
      "Requirement already satisfied: pillow!=8.3.*,>=5.3.0 in c:\\users\\akli\\appdata\\local\\programs\\python\\python310\\lib\\site-packages (from torchvision->sentence-transformers) (9.2.0)\n",
      "Requirement already satisfied: certifi>=2017.4.17 in c:\\users\\akli\\appdata\\local\\programs\\python\\python310\\lib\\site-packages (from requests->huggingface-hub>=0.4.0->sentence-transformers) (2022.9.24)\n",
      "Requirement already satisfied: urllib3<1.27,>=1.21.1 in c:\\users\\akli\\appdata\\local\\programs\\python\\python310\\lib\\site-packages (from requests->huggingface-hub>=0.4.0->sentence-transformers) (1.26.12)\n",
      "Requirement already satisfied: charset-normalizer<3,>=2 in c:\\users\\akli\\appdata\\local\\programs\\python\\python310\\lib\\site-packages (from requests->huggingface-hub>=0.4.0->sentence-transformers) (2.0.12)\n",
      "Requirement already satisfied: idna<4,>=2.5 in c:\\users\\akli\\appdata\\local\\programs\\python\\python310\\lib\\site-packages (from requests->huggingface-hub>=0.4.0->sentence-transformers) (3.4)\n",
      "Building wheels for collected packages: sentence-transformers\n",
      "  Building wheel for sentence-transformers (setup.py): started\n",
      "  Building wheel for sentence-transformers (setup.py): finished with status 'done'\n",
      "  Created wheel for sentence-transformers: filename=sentence_transformers-2.2.2-py3-none-any.whl size=125938 sha256=2ec4e7163b6e2d3fc9111d1a9b51a36116e87aa785b18a754735429b64c39acd\n",
      "  Stored in directory: c:\\users\\akli\\appdata\\local\\pip\\cache\\wheels\\62\\f2\\10\\1e606fd5f02395388f74e7462910fe851042f97238cbbd902f\n",
      "Successfully built sentence-transformers\n",
      "Installing collected packages: sentence-transformers\n",
      "Successfully installed sentence-transformers-2.2.2\n"
     ]
    },
    {
     "name": "stderr",
     "output_type": "stream",
     "text": [
      "\n",
      "[notice] A new release of pip is available: 23.0.1 -> 23.3.1\n",
      "[notice] To update, run: python.exe -m pip install --upgrade pip\n"
     ]
    }
   ],
   "source": [
    "! pip install prince\n",
    "! pip install -U sentence-transformers"
   ]
  },
  {
   "cell_type": "code",
   "execution_count": 2,
   "metadata": {},
   "outputs": [
    {
     "name": "stderr",
     "output_type": "stream",
     "text": [
      "c:\\Users\\AKLI\\AppData\\Local\\Programs\\Python\\Python310\\lib\\site-packages\\tqdm\\auto.py:22: TqdmWarning: IProgress not found. Please update jupyter and ipywidgets. See https://ipywidgets.readthedocs.io/en/stable/user_install.html\n",
      "  from .autonotebook import tqdm as notebook_tqdm\n"
     ]
    }
   ],
   "source": [
    "from sklearn.datasets import fetch_20newsgroups\n",
    "from sklearn.metrics.cluster import normalized_mutual_info_score, adjusted_rand_score\n",
    "from sentence_transformers import SentenceTransformer\n",
    "import numpy as np\n",
    "import pandas as pd\n",
    "from prince import PCA as PrincePCA\n",
    "from sklearn.cluster import KMeans\n",
    "\n",
    "\n",
    "'''\n",
    "Variables: \n",
    "---------\n",
    "\n",
    "corpus : list of documents\n",
    "embeddings : documents embeddings of size NxM (N : number of documents, M : embedding dimension) \n",
    "red_emd : reduced embeddings matrix using dimentionality reduction\n",
    "k : number of clusters\n",
    "labels : documents labels\n",
    "pred : list of clustering predicted clusters \n",
    "\n",
    "''';"
   ]
  },
  {
   "cell_type": "code",
   "execution_count": 4,
   "metadata": {},
   "outputs": [],
   "source": [
    "def dim_red(mat, p):\n",
    "    '''\n",
    "    Perform dimensionality reduction\n",
    "\n",
    "    Input:\n",
    "    -----\n",
    "        mat : NxM list \n",
    "        p : number of dimensions to keep \n",
    "    Output:\n",
    "    ------\n",
    "        red_mat : NxP list such that p<<m\n",
    "    '''\n",
    "    df_embeddings = pd.DataFrame(mat, columns=[f\"feature_{i}\" for i in range(len(mat[0]))])\n",
    "\n",
    "    pca = PrincePCA(n_components=p)\n",
    "    pca = pca.fit(df_embeddings)\n",
    "    red_mat = pca.transform(df_embeddings).to_numpy()\n",
    "    return red_mat"
   ]
  },
  {
   "cell_type": "code",
   "execution_count": 5,
   "metadata": {},
   "outputs": [],
   "source": [
    "def clust(mat, k):\n",
    "    '''\n",
    "    Perform clustering\n",
    "\n",
    "    Input:\n",
    "    -----\n",
    "        mat : input list \n",
    "        k : number of cluster\n",
    "    Output:\n",
    "    ------\n",
    "        pred : list of predicted labels\n",
    "    '''\n",
    "    \n",
    "    kmeans = KMeans(n_clusters=k, random_state=42)\n",
    "    clusters = kmeans.fit(mat)\n",
    "    pred = kmeans.labels_\n",
    "    return pred"
   ]
  },
  {
   "cell_type": "code",
   "execution_count": 6,
   "metadata": {},
   "outputs": [
    {
     "name": "stderr",
     "output_type": "stream",
     "text": [
      "Downloading (…)\".gitattributes\";: 100%|██████████| 690/690 [00:00<00:00, 677kB/s]\n",
      "Downloading (…)ooling/config.json\";: 100%|██████████| 190/190 [00:00<00:00, 38.0kB/s]\n",
      "Downloading (…)\"README.md\";: 100%|██████████| 3.69k/3.69k [00:00<00:00, 925kB/s]\n",
      "Downloading (…)\"config.json\";: 100%|██████████| 629/629 [00:00<?, ?B/s] \n",
      "Downloading (…)_transformers.json\";: 100%|██████████| 122/122 [00:00<00:00, 9.07kB/s]\n",
      "Downloading (…)\"pytorch_model.bin\";: 100%|██████████| 90.9M/90.9M [00:08<00:00, 11.1MB/s]\n",
      "Downloading (…)e_bert_config.json\";: 100%|██████████| 53.0/53.0 [00:00<00:00, 4.77kB/s]\n",
      "Downloading (…)al_tokens_map.json\";: 100%|██████████| 112/112 [00:00<00:00, 7.12kB/s]\n",
      "Downloading (…)\"tokenizer.json\";: 100%|██████████| 466k/466k [00:00<00:00, 7.50MB/s]\n",
      "Downloading (…)enizer_config.json\";: 100%|██████████| 314/314 [00:00<00:00, 32.3kB/s]\n",
      "Downloading (…)\"vocab.txt\";: 100%|██████████| 232k/232k [00:00<00:00, 6.04MB/s]\n",
      "Downloading (…)\"modules.json\";: 100%|██████████| 229/229 [00:00<?, ?B/s] \n"
     ]
    }
   ],
   "source": [
    "# import data\n",
    "ng20 = fetch_20newsgroups(subset='test')\n",
    "corpus = ng20.data[:2000]\n",
    "labels = ng20.target[:2000]\n",
    "k = len(set(labels))\n",
    "\n",
    "# embedding\n",
    "model = SentenceTransformer('paraphrase-MiniLM-L6-v2')\n",
    "embeddings = model.encode(corpus)"
   ]
  },
  {
   "cell_type": "code",
   "execution_count": 7,
   "metadata": {},
   "outputs": [
    {
     "name": "stderr",
     "output_type": "stream",
     "text": [
      "c:\\Users\\AKLI\\AppData\\Local\\Programs\\Python\\Python310\\lib\\site-packages\\sklearn\\cluster\\_kmeans.py:870: FutureWarning: The default value of `n_init` will change from 10 to 'auto' in 1.4. Set the value of `n_init` explicitly to suppress the warning\n",
      "  warnings.warn(\n"
     ]
    },
    {
     "name": "stdout",
     "output_type": "stream",
     "text": [
      "NMI: 0.41 \n",
      "ARI: 0.23\n"
     ]
    }
   ],
   "source": [
    "# perform dimentionality reduction\n",
    "red_emb = dim_red(embeddings, 20)\n",
    "\n",
    "# perform clustering\n",
    "pred = clust(red_emb, k)\n",
    "\n",
    "# evaluate clustering results\n",
    "nmi_score = normalized_mutual_info_score(pred,labels)\n",
    "ari_score = adjusted_rand_score(pred,labels)\n",
    "\n",
    "print(f'NMI: {nmi_score:.2f} \\nARI: {ari_score:.2f}')"
   ]
  }
 ],
 "metadata": {
  "kernelspec": {
   "display_name": "Python 3",
   "language": "python",
   "name": "python3"
  },
  "language_info": {
   "codemirror_mode": {
    "name": "ipython",
    "version": 3
   },
   "file_extension": ".py",
   "mimetype": "text/x-python",
   "name": "python",
   "nbconvert_exporter": "python",
   "pygments_lexer": "ipython3",
   "version": "3.10.0"
  }
 },
 "nbformat": 4,
 "nbformat_minor": 2
}
