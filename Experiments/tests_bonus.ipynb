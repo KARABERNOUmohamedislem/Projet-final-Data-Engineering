{
 "cells": [
  {
   "cell_type": "code",
   "execution_count": 1,
   "id": "c9eaaaa3",
   "metadata": {},
   "outputs": [],
   "source": [
    "from sklearn.datasets import fetch_20newsgroups\n",
    "from sklearn.metrics.cluster import normalized_mutual_info_score, adjusted_rand_score\n",
    "from sentence_transformers import SentenceTransformer\n",
    "from sklearn.cluster import KMeans\n",
    "import numpy as np\n",
    "import pandas as pd\n",
    "from sklearn.manifold import TSNE\n",
    "from prince import PCA as PrincePCA\n",
    "import umap\n",
    "from matplotlib import pyplot as plt\n",
    "\n",
    "'''\n",
    "Variables: \n",
    "---------\n",
    "\n",
    "corpus : list of documents\n",
    "embeddings : documents embeddings of size NxM (N : number of documents, M : embedding dimension) \n",
    "red_emd : reduced embeddings matrix using dimentionality reduction\n",
    "k : number of clusters\n",
    "labels : documents labels\n",
    "pred : list of clustering predicted clusters \n",
    "\n",
    "''';"
   ]
  },
  {
   "cell_type": "code",
   "execution_count": 2,
   "id": "e77a0f00",
   "metadata": {},
   "outputs": [],
   "source": [
    "def dim_red(mat, p, method):\n",
    "    '''\n",
    "    Perform dimensionality reduction\n",
    "\n",
    "    Input:\n",
    "    -----\n",
    "        mat : NxM list \n",
    "        p : number of dimensions to keep \n",
    "    Output:\n",
    "    ------\n",
    "        red_mat : NxP list such that p<<m\n",
    "    '''\n",
    "    if method=='ACP':\n",
    "        df_embeddings = pd.DataFrame(mat, columns=[f\"feature_{i}\" for i in range(len(mat[0]))])\n",
    "        pca = PrincePCA(n_components=p)\n",
    "        pca = pca.fit(df_embeddings)\n",
    "        red_mat = pca.transform(df_embeddings).to_numpy()\n",
    "        \n",
    "    elif method=='TSNE':\n",
    "        tsne = TSNE(n_components=3, random_state=42)\n",
    "        mat = tsne.fit_transform(mat)\n",
    "        red_mat = mat[:,:p]\n",
    "        \n",
    "    elif method=='UMAP':\n",
    "        mat = umap.UMAP(n_components=p).fit_transform(mat)\n",
    "        red_mat = mat[:,:p]\n",
    "        \n",
    "    elif method=='No_reduction':\n",
    "        red_mat = mat\n",
    "        \n",
    "    else:\n",
    "        raise Exception(\"Please select one of the three methods : APC, AFC, UMAP\")\n",
    "    \n",
    "    return red_mat"
   ]
  },
  {
   "cell_type": "code",
   "execution_count": 3,
   "id": "9f2ae938",
   "metadata": {},
   "outputs": [],
   "source": [
    "def clust(mat, k, initialization='random'):\n",
    "    '''\n",
    "    Perform clustering\n",
    "\n",
    "    Input:\n",
    "    -----\n",
    "        mat : input list \n",
    "        k : number of cluster\n",
    "    Output:\n",
    "    ------\n",
    "        pred : list of predicted labels\n",
    "    '''\n",
    "    kmeans = KMeans(n_clusters=k, init=initialization)\n",
    "    kmeans.fit(mat)\n",
    "    pred =  kmeans.labels_\n",
    "    \n",
    "    return pred"
   ]
  },
  {
   "cell_type": "code",
   "execution_count": 4,
   "id": "a7ca9d2f",
   "metadata": {},
   "outputs": [],
   "source": [
    "# import data\n",
    "ng20 = fetch_20newsgroups(subset='test')\n",
    "corpus = ng20.data[:2000]\n",
    "labels = ng20.target[:2000]\n",
    "k = len(set(labels))\n",
    "\n",
    "# embedding\n",
    "model = SentenceTransformer('paraphrase-MiniLM-L6-v2')\n",
    "embeddings = model.encode(corpus)"
   ]
  },
  {
   "cell_type": "code",
   "execution_count": 5,
   "id": "2f623acc",
   "metadata": {},
   "outputs": [
    {
     "name": "stderr",
     "output_type": "stream",
     "text": [
      "c:\\python38\\lib\\site-packages\\sklearn\\cluster\\_kmeans.py:1416: FutureWarning: The default value of `n_init` will change from 10 to 'auto' in 1.4. Set the value of `n_init` explicitly to suppress the warning\n",
      "  super()._check_params_vs_input(X, default_n_init=10)\n"
     ]
    },
    {
     "name": "stdout",
     "output_type": "stream",
     "text": [
      "Method: ACP\n",
      "NMI: 0.44 \n",
      "ARI: 0.25\n",
      "\n"
     ]
    },
    {
     "name": "stderr",
     "output_type": "stream",
     "text": [
      "c:\\python38\\lib\\site-packages\\sklearn\\cluster\\_kmeans.py:1416: FutureWarning: The default value of `n_init` will change from 10 to 'auto' in 1.4. Set the value of `n_init` explicitly to suppress the warning\n",
      "  super()._check_params_vs_input(X, default_n_init=10)\n"
     ]
    },
    {
     "name": "stdout",
     "output_type": "stream",
     "text": [
      "Method: TSNE\n",
      "NMI: 0.42 \n",
      "ARI: 0.23\n",
      "\n",
      "Method: UMAP\n",
      "NMI: 0.48 \n",
      "ARI: 0.29\n",
      "\n"
     ]
    },
    {
     "name": "stderr",
     "output_type": "stream",
     "text": [
      "c:\\python38\\lib\\site-packages\\sklearn\\cluster\\_kmeans.py:1416: FutureWarning: The default value of `n_init` will change from 10 to 'auto' in 1.4. Set the value of `n_init` explicitly to suppress the warning\n",
      "  super()._check_params_vs_input(X, default_n_init=10)\n"
     ]
    }
   ],
   "source": [
    "methods = ['ACP', 'TSNE', 'UMAP']\n",
    "for method in methods:\n",
    "    # Perform dimensionality reduction\n",
    "    red_emb = dim_red(embeddings, 20, method)\n",
    "\n",
    "    # Perform clustering\n",
    "    \n",
    "    pred = clust(red_emb, k)\n",
    "\n",
    "    # Evaluate clustering results\n",
    "    nmi_score = normalized_mutual_info_score(pred, labels)\n",
    "    ari_score = adjusted_rand_score(pred, labels)\n",
    "\n",
    "    # Print results\n",
    "    print(f'Method: {method}\\nNMI: {nmi_score:.2f} \\nARI: {ari_score:.2f}\\n')"
   ]
  },
  {
   "cell_type": "markdown",
   "id": "24a0a1ee",
   "metadata": {},
   "source": [
    "# Trying different initialisation"
   ]
  },
  {
   "cell_type": "code",
   "execution_count": 7,
   "id": "09489917",
   "metadata": {},
   "outputs": [
    {
     "name": "stdout",
     "output_type": "stream",
     "text": [
      "Trying with  ACP\n"
     ]
    },
    {
     "data": {
      "text/html": [
       "<div>\n",
       "<style scoped>\n",
       "    .dataframe tbody tr th:only-of-type {\n",
       "        vertical-align: middle;\n",
       "    }\n",
       "\n",
       "    .dataframe tbody tr th {\n",
       "        vertical-align: top;\n",
       "    }\n",
       "\n",
       "    .dataframe thead th {\n",
       "        text-align: right;\n",
       "    }\n",
       "</style>\n",
       "<table border=\"1\" class=\"dataframe\">\n",
       "  <thead>\n",
       "    <tr style=\"text-align: right;\">\n",
       "      <th></th>\n",
       "      <th>NMI</th>\n",
       "      <th>ARI</th>\n",
       "    </tr>\n",
       "  </thead>\n",
       "  <tbody>\n",
       "    <tr>\n",
       "      <th>0</th>\n",
       "      <td>0.408107</td>\n",
       "      <td>0.240069</td>\n",
       "    </tr>\n",
       "    <tr>\n",
       "      <th>1</th>\n",
       "      <td>0.418703</td>\n",
       "      <td>0.247399</td>\n",
       "    </tr>\n",
       "    <tr>\n",
       "      <th>2</th>\n",
       "      <td>0.413036</td>\n",
       "      <td>0.243944</td>\n",
       "    </tr>\n",
       "    <tr>\n",
       "      <th>3</th>\n",
       "      <td>0.418059</td>\n",
       "      <td>0.247986</td>\n",
       "    </tr>\n",
       "    <tr>\n",
       "      <th>4</th>\n",
       "      <td>0.407673</td>\n",
       "      <td>0.237452</td>\n",
       "    </tr>\n",
       "    <tr>\n",
       "      <th>5</th>\n",
       "      <td>0.417593</td>\n",
       "      <td>0.249136</td>\n",
       "    </tr>\n",
       "    <tr>\n",
       "      <th>6</th>\n",
       "      <td>0.400106</td>\n",
       "      <td>0.233833</td>\n",
       "    </tr>\n",
       "    <tr>\n",
       "      <th>7</th>\n",
       "      <td>0.408516</td>\n",
       "      <td>0.233656</td>\n",
       "    </tr>\n",
       "    <tr>\n",
       "      <th>8</th>\n",
       "      <td>0.412086</td>\n",
       "      <td>0.244981</td>\n",
       "    </tr>\n",
       "    <tr>\n",
       "      <th>9</th>\n",
       "      <td>0.416681</td>\n",
       "      <td>0.244569</td>\n",
       "    </tr>\n",
       "  </tbody>\n",
       "</table>\n",
       "</div>"
      ],
      "text/plain": [
       "        NMI       ARI\n",
       "0  0.408107  0.240069\n",
       "1  0.418703  0.247399\n",
       "2  0.413036  0.243944\n",
       "3  0.418059  0.247986\n",
       "4  0.407673  0.237452\n",
       "5  0.417593  0.249136\n",
       "6  0.400106  0.233833\n",
       "7  0.408516  0.233656\n",
       "8  0.412086  0.244981\n",
       "9  0.416681  0.244569"
      ]
     },
     "metadata": {},
     "output_type": "display_data"
    },
    {
     "name": "stdout",
     "output_type": "stream",
     "text": [
      "NMI mean: 0.41 NMI std: 0.01\n",
      "\n",
      "ARI mean: 0.24 ARI std: 0.01\n",
      "\n",
      "Trying with  TSNE\n"
     ]
    },
    {
     "data": {
      "text/html": [
       "<div>\n",
       "<style scoped>\n",
       "    .dataframe tbody tr th:only-of-type {\n",
       "        vertical-align: middle;\n",
       "    }\n",
       "\n",
       "    .dataframe tbody tr th {\n",
       "        vertical-align: top;\n",
       "    }\n",
       "\n",
       "    .dataframe thead th {\n",
       "        text-align: right;\n",
       "    }\n",
       "</style>\n",
       "<table border=\"1\" class=\"dataframe\">\n",
       "  <thead>\n",
       "    <tr style=\"text-align: right;\">\n",
       "      <th></th>\n",
       "      <th>NMI</th>\n",
       "      <th>ARI</th>\n",
       "    </tr>\n",
       "  </thead>\n",
       "  <tbody>\n",
       "    <tr>\n",
       "      <th>0</th>\n",
       "      <td>0.417153</td>\n",
       "      <td>0.231549</td>\n",
       "    </tr>\n",
       "    <tr>\n",
       "      <th>1</th>\n",
       "      <td>0.410852</td>\n",
       "      <td>0.233272</td>\n",
       "    </tr>\n",
       "    <tr>\n",
       "      <th>2</th>\n",
       "      <td>0.415865</td>\n",
       "      <td>0.242709</td>\n",
       "    </tr>\n",
       "    <tr>\n",
       "      <th>3</th>\n",
       "      <td>0.425584</td>\n",
       "      <td>0.254637</td>\n",
       "    </tr>\n",
       "    <tr>\n",
       "      <th>4</th>\n",
       "      <td>0.414967</td>\n",
       "      <td>0.237263</td>\n",
       "    </tr>\n",
       "    <tr>\n",
       "      <th>5</th>\n",
       "      <td>0.406468</td>\n",
       "      <td>0.228347</td>\n",
       "    </tr>\n",
       "    <tr>\n",
       "      <th>6</th>\n",
       "      <td>0.406736</td>\n",
       "      <td>0.222387</td>\n",
       "    </tr>\n",
       "    <tr>\n",
       "      <th>7</th>\n",
       "      <td>0.410563</td>\n",
       "      <td>0.233288</td>\n",
       "    </tr>\n",
       "    <tr>\n",
       "      <th>8</th>\n",
       "      <td>0.414607</td>\n",
       "      <td>0.238070</td>\n",
       "    </tr>\n",
       "    <tr>\n",
       "      <th>9</th>\n",
       "      <td>0.421416</td>\n",
       "      <td>0.248053</td>\n",
       "    </tr>\n",
       "  </tbody>\n",
       "</table>\n",
       "</div>"
      ],
      "text/plain": [
       "        NMI       ARI\n",
       "0  0.417153  0.231549\n",
       "1  0.410852  0.233272\n",
       "2  0.415865  0.242709\n",
       "3  0.425584  0.254637\n",
       "4  0.414967  0.237263\n",
       "5  0.406468  0.228347\n",
       "6  0.406736  0.222387\n",
       "7  0.410563  0.233288\n",
       "8  0.414607  0.238070\n",
       "9  0.421416  0.248053"
      ]
     },
     "metadata": {},
     "output_type": "display_data"
    },
    {
     "name": "stdout",
     "output_type": "stream",
     "text": [
      "NMI mean: 0.41 NMI std: 0.01\n",
      "\n",
      "ARI mean: 0.24 ARI std: 0.01\n",
      "\n",
      "Trying with  UMAP\n"
     ]
    },
    {
     "data": {
      "text/html": [
       "<div>\n",
       "<style scoped>\n",
       "    .dataframe tbody tr th:only-of-type {\n",
       "        vertical-align: middle;\n",
       "    }\n",
       "\n",
       "    .dataframe tbody tr th {\n",
       "        vertical-align: top;\n",
       "    }\n",
       "\n",
       "    .dataframe thead th {\n",
       "        text-align: right;\n",
       "    }\n",
       "</style>\n",
       "<table border=\"1\" class=\"dataframe\">\n",
       "  <thead>\n",
       "    <tr style=\"text-align: right;\">\n",
       "      <th></th>\n",
       "      <th>NMI</th>\n",
       "      <th>ARI</th>\n",
       "    </tr>\n",
       "  </thead>\n",
       "  <tbody>\n",
       "    <tr>\n",
       "      <th>0</th>\n",
       "      <td>0.471345</td>\n",
       "      <td>0.272603</td>\n",
       "    </tr>\n",
       "    <tr>\n",
       "      <th>1</th>\n",
       "      <td>0.469026</td>\n",
       "      <td>0.292244</td>\n",
       "    </tr>\n",
       "    <tr>\n",
       "      <th>2</th>\n",
       "      <td>0.478400</td>\n",
       "      <td>0.295798</td>\n",
       "    </tr>\n",
       "    <tr>\n",
       "      <th>3</th>\n",
       "      <td>0.460285</td>\n",
       "      <td>0.267958</td>\n",
       "    </tr>\n",
       "    <tr>\n",
       "      <th>4</th>\n",
       "      <td>0.478844</td>\n",
       "      <td>0.294758</td>\n",
       "    </tr>\n",
       "    <tr>\n",
       "      <th>5</th>\n",
       "      <td>0.474600</td>\n",
       "      <td>0.283976</td>\n",
       "    </tr>\n",
       "    <tr>\n",
       "      <th>6</th>\n",
       "      <td>0.479148</td>\n",
       "      <td>0.286087</td>\n",
       "    </tr>\n",
       "    <tr>\n",
       "      <th>7</th>\n",
       "      <td>0.470718</td>\n",
       "      <td>0.279113</td>\n",
       "    </tr>\n",
       "    <tr>\n",
       "      <th>8</th>\n",
       "      <td>0.472419</td>\n",
       "      <td>0.284078</td>\n",
       "    </tr>\n",
       "    <tr>\n",
       "      <th>9</th>\n",
       "      <td>0.474479</td>\n",
       "      <td>0.272143</td>\n",
       "    </tr>\n",
       "  </tbody>\n",
       "</table>\n",
       "</div>"
      ],
      "text/plain": [
       "        NMI       ARI\n",
       "0  0.471345  0.272603\n",
       "1  0.469026  0.292244\n",
       "2  0.478400  0.295798\n",
       "3  0.460285  0.267958\n",
       "4  0.478844  0.294758\n",
       "5  0.474600  0.283976\n",
       "6  0.479148  0.286087\n",
       "7  0.470718  0.279113\n",
       "8  0.472419  0.284078\n",
       "9  0.474479  0.272143"
      ]
     },
     "metadata": {},
     "output_type": "display_data"
    },
    {
     "name": "stdout",
     "output_type": "stream",
     "text": [
      "NMI mean: 0.47 NMI std: 0.01\n",
      "\n",
      "ARI mean: 0.28 ARI std: 0.01\n",
      "\n"
     ]
    }
   ],
   "source": [
    "import warnings\n",
    "warnings.filterwarnings('ignore')\n",
    "\n",
    "methods = ['ACP', 'TSNE', 'UMAP']\n",
    "nmi_means = []\n",
    "ari_means = []\n",
    "for method in methods:\n",
    "    # Perform dimensionality reduction\n",
    "    red_emb = dim_red(embeddings, 20, method)\n",
    "\n",
    "    results = {'NMI': [], 'ARI':[]}    \n",
    "    # Perform clustering\n",
    "    for i in range(10):\n",
    "        pred = clust(red_emb, k)\n",
    "        # Evaluate clustering results\n",
    "        results[\"NMI\"].append(normalized_mutual_info_score(pred, labels))\n",
    "        results[\"ARI\"].append(adjusted_rand_score(pred, labels))\n",
    "    results = pd.DataFrame.from_dict(results)\n",
    "    print(\"Trying with \", method)\n",
    "    display(results)\n",
    "    nmi_means.append(results[\"NMI\"].mean())\n",
    "    ari_means.append(results[\"ARI\"].mean())\n",
    "    print(f'NMI mean: {results[\"NMI\"].mean():.2f} NMI std: {results[\"NMI\"].std():.2f}\\n')\n",
    "    print(f'ARI mean: {results[\"ARI\"].mean():.2f} ARI std: {results[\"ARI\"].std():.2f}\\n')"
   ]
  },
  {
   "cell_type": "code",
   "execution_count": 8,
   "id": "66e9a71e",
   "metadata": {},
   "outputs": [
    {
     "data": {
      "image/png": "[encoded data removed]",
      "text/plain": [
       "<Figure size 720x288 with 1 Axes>"
      ]
     },
     "metadata": {
      "needs_background": "light"
     },
     "output_type": "display_data"
    }
   ],
   "source": [
    "# Compare Algorithms\n",
    "fig = plt.figure(figsize=(10,4))\n",
    "fig.suptitle('Algorithm Comparison')\n",
    "ax = fig.add_subplot(111)\n",
    "plt.bar(methods, nmi_means)\n",
    "plt.show()"
   ]
  },
  {
   "cell_type": "markdown",
   "id": "f0248405",
   "metadata": {},
   "source": [
    "On remarque qu'on a le meilleur résultat avec la méthode de réduction de dimensionnalité UMAP."
   ]
  },
  {
   "cell_type": "markdown",
   "id": "c13d4d76",
   "metadata": {},
   "source": [
    "# Comparant les résultats avec kmeans sans réduction de dimensionality"
   ]
  },
  {
   "cell_type": "code",
   "execution_count": 9,
   "id": "93557182",
   "metadata": {},
   "outputs": [
    {
     "name": "stdout",
     "output_type": "stream",
     "text": [
      "Trying with  No_reduction\n"
     ]
    },
    {
     "data": {
      "text/html": [
       "<div>\n",
       "<style scoped>\n",
       "    .dataframe tbody tr th:only-of-type {\n",
       "        vertical-align: middle;\n",
       "    }\n",
       "\n",
       "    .dataframe tbody tr th {\n",
       "        vertical-align: top;\n",
       "    }\n",
       "\n",
       "    .dataframe thead th {\n",
       "        text-align: right;\n",
       "    }\n",
       "</style>\n",
       "<table border=\"1\" class=\"dataframe\">\n",
       "  <thead>\n",
       "    <tr style=\"text-align: right;\">\n",
       "      <th></th>\n",
       "      <th>NMI</th>\n",
       "      <th>ARI</th>\n",
       "    </tr>\n",
       "  </thead>\n",
       "  <tbody>\n",
       "    <tr>\n",
       "      <th>0</th>\n",
       "      <td>0.418064</td>\n",
       "      <td>0.223051</td>\n",
       "    </tr>\n",
       "    <tr>\n",
       "      <th>1</th>\n",
       "      <td>0.441471</td>\n",
       "      <td>0.253919</td>\n",
       "    </tr>\n",
       "    <tr>\n",
       "      <th>2</th>\n",
       "      <td>0.447660</td>\n",
       "      <td>0.258271</td>\n",
       "    </tr>\n",
       "    <tr>\n",
       "      <th>3</th>\n",
       "      <td>0.454990</td>\n",
       "      <td>0.255542</td>\n",
       "    </tr>\n",
       "    <tr>\n",
       "      <th>4</th>\n",
       "      <td>0.436150</td>\n",
       "      <td>0.244072</td>\n",
       "    </tr>\n",
       "    <tr>\n",
       "      <th>5</th>\n",
       "      <td>0.451500</td>\n",
       "      <td>0.258001</td>\n",
       "    </tr>\n",
       "    <tr>\n",
       "      <th>6</th>\n",
       "      <td>0.431276</td>\n",
       "      <td>0.224745</td>\n",
       "    </tr>\n",
       "    <tr>\n",
       "      <th>7</th>\n",
       "      <td>0.433205</td>\n",
       "      <td>0.232891</td>\n",
       "    </tr>\n",
       "    <tr>\n",
       "      <th>8</th>\n",
       "      <td>0.428085</td>\n",
       "      <td>0.233488</td>\n",
       "    </tr>\n",
       "    <tr>\n",
       "      <th>9</th>\n",
       "      <td>0.442024</td>\n",
       "      <td>0.250053</td>\n",
       "    </tr>\n",
       "  </tbody>\n",
       "</table>\n",
       "</div>"
      ],
      "text/plain": [
       "        NMI       ARI\n",
       "0  0.418064  0.223051\n",
       "1  0.441471  0.253919\n",
       "2  0.447660  0.258271\n",
       "3  0.454990  0.255542\n",
       "4  0.436150  0.244072\n",
       "5  0.451500  0.258001\n",
       "6  0.431276  0.224745\n",
       "7  0.433205  0.232891\n",
       "8  0.428085  0.233488\n",
       "9  0.442024  0.250053"
      ]
     },
     "metadata": {},
     "output_type": "display_data"
    },
    {
     "name": "stdout",
     "output_type": "stream",
     "text": [
      "NMI mean: 0.44 NMI std: 0.01\n",
      "\n",
      "ARI mean: 0.24 ARI std: 0.01\n",
      "\n",
      "Trying with  UMAP\n"
     ]
    },
    {
     "data": {
      "text/html": [
       "<div>\n",
       "<style scoped>\n",
       "    .dataframe tbody tr th:only-of-type {\n",
       "        vertical-align: middle;\n",
       "    }\n",
       "\n",
       "    .dataframe tbody tr th {\n",
       "        vertical-align: top;\n",
       "    }\n",
       "\n",
       "    .dataframe thead th {\n",
       "        text-align: right;\n",
       "    }\n",
       "</style>\n",
       "<table border=\"1\" class=\"dataframe\">\n",
       "  <thead>\n",
       "    <tr style=\"text-align: right;\">\n",
       "      <th></th>\n",
       "      <th>NMI</th>\n",
       "      <th>ARI</th>\n",
       "    </tr>\n",
       "  </thead>\n",
       "  <tbody>\n",
       "    <tr>\n",
       "      <th>0</th>\n",
       "      <td>0.470598</td>\n",
       "      <td>0.287355</td>\n",
       "    </tr>\n",
       "    <tr>\n",
       "      <th>1</th>\n",
       "      <td>0.471829</td>\n",
       "      <td>0.270014</td>\n",
       "    </tr>\n",
       "    <tr>\n",
       "      <th>2</th>\n",
       "      <td>0.473293</td>\n",
       "      <td>0.288221</td>\n",
       "    </tr>\n",
       "    <tr>\n",
       "      <th>3</th>\n",
       "      <td>0.476813</td>\n",
       "      <td>0.277753</td>\n",
       "    </tr>\n",
       "    <tr>\n",
       "      <th>4</th>\n",
       "      <td>0.479381</td>\n",
       "      <td>0.289842</td>\n",
       "    </tr>\n",
       "    <tr>\n",
       "      <th>5</th>\n",
       "      <td>0.479582</td>\n",
       "      <td>0.288764</td>\n",
       "    </tr>\n",
       "    <tr>\n",
       "      <th>6</th>\n",
       "      <td>0.467278</td>\n",
       "      <td>0.266931</td>\n",
       "    </tr>\n",
       "    <tr>\n",
       "      <th>7</th>\n",
       "      <td>0.483374</td>\n",
       "      <td>0.290710</td>\n",
       "    </tr>\n",
       "    <tr>\n",
       "      <th>8</th>\n",
       "      <td>0.481264</td>\n",
       "      <td>0.291835</td>\n",
       "    </tr>\n",
       "    <tr>\n",
       "      <th>9</th>\n",
       "      <td>0.475808</td>\n",
       "      <td>0.284353</td>\n",
       "    </tr>\n",
       "  </tbody>\n",
       "</table>\n",
       "</div>"
      ],
      "text/plain": [
       "        NMI       ARI\n",
       "0  0.470598  0.287355\n",
       "1  0.471829  0.270014\n",
       "2  0.473293  0.288221\n",
       "3  0.476813  0.277753\n",
       "4  0.479381  0.289842\n",
       "5  0.479582  0.288764\n",
       "6  0.467278  0.266931\n",
       "7  0.483374  0.290710\n",
       "8  0.481264  0.291835\n",
       "9  0.475808  0.284353"
      ]
     },
     "metadata": {},
     "output_type": "display_data"
    },
    {
     "name": "stdout",
     "output_type": "stream",
     "text": [
      "NMI mean: 0.48 NMI std: 0.01\n",
      "\n",
      "ARI mean: 0.28 ARI std: 0.01\n",
      "\n"
     ]
    }
   ],
   "source": [
    "import warnings\n",
    "warnings.filterwarnings('ignore')\n",
    "\n",
    "methods = ['No_reduction', 'UMAP']\n",
    "nmi_means = []\n",
    "ari_means = []\n",
    "for method in methods:\n",
    "    # Perform dimensionality reduction\n",
    "    red_emb = dim_red(embeddings, 20, method)\n",
    "\n",
    "    results = {'NMI': [], 'ARI':[]}    \n",
    "    # Perform clustering\n",
    "    for i in range(10):\n",
    "        pred = clust(red_emb, k)\n",
    "        # Evaluate clustering results\n",
    "        results[\"NMI\"].append(normalized_mutual_info_score(pred, labels))\n",
    "        results[\"ARI\"].append(adjusted_rand_score(pred, labels))\n",
    "    results = pd.DataFrame.from_dict(results)\n",
    "    print(\"Trying with \", method)\n",
    "    display(results)\n",
    "    nmi_means.append(results[\"NMI\"].mean())\n",
    "    ari_means.append(results[\"ARI\"].mean())\n",
    "    print(f'NMI mean: {results[\"NMI\"].mean():.2f} NMI std: {results[\"NMI\"].std():.2f}\\n')\n",
    "    print(f'ARI mean: {results[\"ARI\"].mean():.2f} ARI std: {results[\"ARI\"].std():.2f}\\n')"
   ]
  },
  {
   "cell_type": "code",
   "execution_count": 10,
   "id": "46c9c0a2",
   "metadata": {},
   "outputs": [
    {
     "data": {
      "image/png": "[encoded data removed]",
      "text/plain": [
       "<Figure size 720x288 with 1 Axes>"
      ]
     },
     "metadata": {
      "needs_background": "light"
     },
     "output_type": "display_data"
    }
   ],
   "source": [
    "# Compare Algorithms\n",
    "fig = plt.figure(figsize=(10,4))\n",
    "fig.suptitle('Algorithm Comparison')\n",
    "ax = fig.add_subplot(111)\n",
    "plt.bar(methods, nmi_means)\n",
    "plt.show()"
   ]
  },
  {
   "cell_type": "markdown",
   "id": "7aefbd0c",
   "metadata": {},
   "source": [
    "# Compare different initializations"
   ]
  },
  {
   "cell_type": "code",
   "execution_count": 11,
   "id": "5f533a98",
   "metadata": {},
   "outputs": [
    {
     "name": "stdout",
     "output_type": "stream",
     "text": [
      "Using  random  initialization\n",
      "Trying with  ACP\n",
      "NMI mean: 0.42 NMI std: 0.01\n",
      "\n",
      "ARI mean: 0.24 ARI std: 0.01\n",
      "\n",
      "Trying with  TSNE\n",
      "NMI mean: 0.42 NMI std: 0.01\n",
      "\n",
      "ARI mean: 0.24 ARI std: 0.01\n",
      "\n",
      "Trying with  UMAP\n",
      "NMI mean: 0.47 NMI std: 0.00\n",
      "\n",
      "ARI mean: 0.29 ARI std: 0.01\n",
      "\n",
      "Using  k-means++  initialization\n",
      "Trying with  ACP\n",
      "NMI mean: 0.41 NMI std: 0.00\n",
      "\n",
      "ARI mean: 0.23 ARI std: 0.01\n",
      "\n",
      "Trying with  TSNE\n",
      "NMI mean: 0.42 NMI std: 0.01\n",
      "\n",
      "ARI mean: 0.24 ARI std: 0.01\n",
      "\n",
      "Trying with  UMAP\n",
      "NMI mean: 0.47 NMI std: 0.00\n",
      "\n",
      "ARI mean: 0.29 ARI std: 0.01\n",
      "\n"
     ]
    }
   ],
   "source": [
    "import warnings\n",
    "warnings.filterwarnings('ignore')\n",
    "\n",
    "methods = ['ACP', 'TSNE', 'UMAP']\n",
    "initializations = ['random', 'k-means++']\n",
    "nmi_means = {'random': [], 'k-means++':[]}\n",
    "ari_means = {'random': [], 'k-means++':[]}\n",
    "results = {}\n",
    "for initialization in initializations:\n",
    "    print(\"Using \", initialization, \" initialization\")\n",
    "    for method in methods:\n",
    "        # Perform dimensionality reduction\n",
    "        red_emb = dim_red(embeddings, 20, method)\n",
    "\n",
    "        results[initialization] = {'NMI': [], 'ARI':[]}    \n",
    "        # Perform clustering\n",
    "        for i in range(10):\n",
    "            pred = clust(red_emb, k, initialization=initialization)\n",
    "            # Evaluate clustering results\n",
    "            results[initialization][\"NMI\"].append(normalized_mutual_info_score(pred, labels))\n",
    "            results[initialization][\"ARI\"].append(adjusted_rand_score(pred, labels))\n",
    "        results_df = pd.DataFrame.from_dict(results[initialization])\n",
    "        print(\"Trying with \", method)\n",
    "        nmi_means[initialization].append(results_df[\"NMI\"].mean())\n",
    "        ari_means[initialization].append(results_df[\"ARI\"].mean())\n",
    "        print(f'NMI mean: {results_df[\"NMI\"].mean():.2f} NMI std: {results_df[\"NMI\"].std():.2f}\\n')\n",
    "        print(f'ARI mean: {results_df[\"ARI\"].mean():.2f} ARI std: {results_df[\"ARI\"].std():.2f}\\n')"
   ]
  },
  {
   "cell_type": "code",
   "execution_count": 12,
   "id": "a368a96c",
   "metadata": {},
   "outputs": [
    {
     "data": {
      "image/png": "[encoded data removed]",
      "text/plain": [
       "<Figure size 432x288 with 2 Axes>"
      ]
     },
     "metadata": {
      "needs_background": "light"
     },
     "output_type": "display_data"
    }
   ],
   "source": [
    "fig, axs = plt.subplots(2)\n",
    "plt.subplots_adjust(hspace=0.7)\n",
    "\n",
    "axs[0].bar(methods, nmi_means['random'])\n",
    "axs[0].set_title('Using  random  initialization')\n",
    "\n",
    "axs[1].bar(methods, nmi_means['k-means++'])\n",
    "axs[1].set_title('Using  k-means++  initialization')\n",
    "plt.show()"
   ]
  },
  {
   "cell_type": "markdown",
   "id": "b59a595a",
   "metadata": {},
   "source": [
    "We got approximately same results"
   ]
  },
  {
   "cell_type": "code",
   "execution_count": 13,
   "id": "8dfc0932",
   "metadata": {},
   "outputs": [
    {
     "data": {
      "image/png": "[encoded data removed]",
      "text/plain": [
       "<Figure size 720x288 with 1 Axes>"
      ]
     },
     "metadata": {
      "needs_background": "light"
     },
     "output_type": "display_data"
    }
   ],
   "source": [
    "# Compare Algorithms\n",
    "fig = plt.figure(figsize=(10,4))\n",
    "fig.suptitle('Initialisation Comparison based on UMAP')\n",
    "ax = fig.add_subplot(111)\n",
    "plt.bar(['random', 'k-means++'], [nmi_means['random'][2], nmi_means['k-means++'][2]])\n",
    "plt.show()"
   ]
  },
  {
   "cell_type": "markdown",
   "id": "d08a7449",
   "metadata": {},
   "source": [
    "Les résultats avec random initialisation sont un peu meilleur qu’avec kmeans++."
   ]
  },
  {
   "cell_type": "markdown",
   "id": "9876b3cd",
   "metadata": {},
   "source": [
    "# Trying with different algorithms"
   ]
  },
  {
   "cell_type": "code",
   "execution_count": 14,
   "id": "6e8befc8",
   "metadata": {},
   "outputs": [
    {
     "data": {
      "text/html": [
       "<div>\n",
       "<style scoped>\n",
       "    .dataframe tbody tr th:only-of-type {\n",
       "        vertical-align: middle;\n",
       "    }\n",
       "\n",
       "    .dataframe tbody tr th {\n",
       "        vertical-align: top;\n",
       "    }\n",
       "\n",
       "    .dataframe thead th {\n",
       "        text-align: right;\n",
       "    }\n",
       "</style>\n",
       "<table border=\"1\" class=\"dataframe\">\n",
       "  <thead>\n",
       "    <tr style=\"text-align: right;\">\n",
       "      <th></th>\n",
       "      <th>Algorithm</th>\n",
       "      <th>NMI</th>\n",
       "      <th>ARI</th>\n",
       "    </tr>\n",
       "  </thead>\n",
       "  <tbody>\n",
       "    <tr>\n",
       "      <th>0</th>\n",
       "      <td>Kmeans</td>\n",
       "      <td>0.478119</td>\n",
       "      <td>0.295485</td>\n",
       "    </tr>\n",
       "    <tr>\n",
       "      <th>1</th>\n",
       "      <td>AR</td>\n",
       "      <td>0.462315</td>\n",
       "      <td>0.263954</td>\n",
       "    </tr>\n",
       "    <tr>\n",
       "      <th>2</th>\n",
       "      <td>GM</td>\n",
       "      <td>0.484909</td>\n",
       "      <td>0.305066</td>\n",
       "    </tr>\n",
       "    <tr>\n",
       "      <th>3</th>\n",
       "      <td>SC</td>\n",
       "      <td>0.475833</td>\n",
       "      <td>0.200612</td>\n",
       "    </tr>\n",
       "    <tr>\n",
       "      <th>4</th>\n",
       "      <td>Birch</td>\n",
       "      <td>0.468285</td>\n",
       "      <td>0.295826</td>\n",
       "    </tr>\n",
       "    <tr>\n",
       "      <th>5</th>\n",
       "      <td>MiniBatchKMeans</td>\n",
       "      <td>0.465798</td>\n",
       "      <td>0.286408</td>\n",
       "    </tr>\n",
       "  </tbody>\n",
       "</table>\n",
       "</div>"
      ],
      "text/plain": [
       "         Algorithm       NMI       ARI\n",
       "0           Kmeans  0.478119  0.295485\n",
       "1               AR  0.462315  0.263954\n",
       "2               GM  0.484909  0.305066\n",
       "3               SC  0.475833  0.200612\n",
       "4            Birch  0.468285  0.295826\n",
       "5  MiniBatchKMeans  0.465798  0.286408"
      ]
     },
     "metadata": {},
     "output_type": "display_data"
    }
   ],
   "source": [
    "from sklearn.cluster import AgglomerativeClustering, SpectralClustering, Birch, MiniBatchKMeans\n",
    "from sklearn.mixture import GaussianMixture\n",
    "\n",
    "\n",
    "# Spot Check Algorithms\n",
    "models = []\n",
    "models.append(('Kmeans', KMeans(n_clusters=k)))\n",
    "models.append(('AR', AgglomerativeClustering(n_clusters=k)))\n",
    "models.append(('GM', GaussianMixture(n_components=k)))\n",
    "models.append(('SC', SpectralClustering(n_clusters=k)))\n",
    "models.append(('Birch', Birch(n_clusters=k)))\n",
    "models.append(('MiniBatchKMeans', MiniBatchKMeans(n_clusters=k)))\n",
    "              \n",
    "results = {'Algorithm': [], 'NMI': [], 'ARI': []}\n",
    "\n",
    "data = red_emb = dim_red(embeddings, 20, 'UMAP')\n",
    "\n",
    "for name, model in models:\n",
    "    pred = model.fit_predict(data)\n",
    "    results['Algorithm'].append(name)\n",
    "    results['NMI'].append(normalized_mutual_info_score(pred, labels))\n",
    "    results['ARI'].append(adjusted_rand_score(pred, labels))\n",
    "    \n",
    "display(pd.DataFrame.from_dict(results))"
   ]
  },
  {
   "cell_type": "markdown",
   "id": "a6a75f22",
   "metadata": {},
   "source": [
    "On remarque qu'on eu le meilleur resultats en terme de NMI avec l'algorithme KMeans."
   ]
  }
 ],
 "metadata": {
  "kernelspec": {
   "display_name": "Python 3 (ipykernel)",
   "language": "python",
   "name": "python3"
  },
  "language_info": {
   "codemirror_mode": {
    "name": "ipython",
    "version": 3
   },
   "file_extension": ".py",
   "mimetype": "text/x-python",
   "name": "python",
   "nbconvert_exporter": "python",
   "pygments_lexer": "ipython3",
   "version": "3.8.3"
  }
 },
 "nbformat": 4,
 "nbformat_minor": 5
}
