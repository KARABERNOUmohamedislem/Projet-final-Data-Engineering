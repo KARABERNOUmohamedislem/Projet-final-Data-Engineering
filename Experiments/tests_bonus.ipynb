{
 "cells": [
  {
   "cell_type": "code",
   "execution_count": 1,
   "id": "c9eaaaa3",
   "metadata": {},
   "outputs": [],
   "source": [
    "from sklearn.datasets import fetch_20newsgroups\n",
    "from sklearn.metrics.cluster import normalized_mutual_info_score, adjusted_rand_score\n",
    "from sentence_transformers import SentenceTransformer\n",
    "from sklearn.cluster import KMeans\n",
    "import numpy as np\n",
    "import pandas as pd\n",
    "from sklearn.manifold import TSNE\n",
    "from prince import PCA as PrincePCA\n",
    "import umap\n",
    "\n",
    "'''\n",
    "Variables: \n",
    "---------\n",
    "\n",
    "corpus : list of documents\n",
    "embeddings : documents embeddings of size NxM (N : number of documents, M : embedding dimension) \n",
    "red_emd : reduced embeddings matrix using dimentionality reduction\n",
    "k : number of clusters\n",
    "labels : documents labels\n",
    "pred : list of clustering predicted clusters \n",
    "\n",
    "''';"
   ]
  },
  {
   "cell_type": "code",
   "execution_count": 4,
   "id": "e77a0f00",
   "metadata": {},
   "outputs": [],
   "source": [
    "def dim_red(mat, p, method):\n",
    "    '''\n",
    "    Perform dimensionality reduction\n",
    "\n",
    "    Input:\n",
    "    -----\n",
    "        mat : NxM list \n",
    "        p : number of dimensions to keep \n",
    "    Output:\n",
    "    ------\n",
    "        red_mat : NxP list such that p<<m\n",
    "    '''\n",
    "    if method=='ACP':\n",
    "        df_embeddings = pd.DataFrame(mat, columns=[f\"feature_{i}\" for i in range(len(mat[0]))])\n",
    "        pca = PrincePCA(n_components=p)\n",
    "        pca = pca.fit(df_embeddings)\n",
    "        red_mat = pca.transform(df_embeddings).to_numpy()\n",
    "        \n",
    "    elif method=='TSNE':\n",
    "        tsne = TSNE(n_components=3, random_state=42)\n",
    "        mat = tsne.fit_transform(mat)\n",
    "        red_mat = mat[:,:p]\n",
    "        \n",
    "    elif method=='UMAP':\n",
    "        mat = umap.UMAP(n_components=p).fit_transform(mat)\n",
    "        red_mat = mat[:,:p]\n",
    "        \n",
    "    else:\n",
    "        raise Exception(\"Please select one of the three methods : APC, AFC, UMAP\")\n",
    "    \n",
    "    return red_mat"
   ]
  },
  {
   "cell_type": "code",
   "execution_count": 5,
   "id": "9f2ae938",
   "metadata": {},
   "outputs": [],
   "source": [
    "def clust(mat, k):\n",
    "    '''\n",
    "    Perform clustering\n",
    "\n",
    "    Input:\n",
    "    -----\n",
    "        mat : input list \n",
    "        k : number of cluster\n",
    "    Output:\n",
    "    ------\n",
    "        pred : list of predicted labels\n",
    "    '''\n",
    "    kmeans = KMeans(n_clusters=k)\n",
    "    kmeans.fit(mat)\n",
    "    pred =  kmeans.labels_\n",
    "    \n",
    "    return pred"
   ]
  },
  {
   "cell_type": "code",
   "execution_count": 3,
   "id": "a7ca9d2f",
   "metadata": {},
   "outputs": [],
   "source": [
    "# import data\n",
    "ng20 = fetch_20newsgroups(subset='test')\n",
    "corpus = ng20.data[:2000]\n",
    "labels = ng20.target[:2000]\n",
    "k = len(set(labels))\n",
    "\n",
    "# embedding\n",
    "model = SentenceTransformer('paraphrase-MiniLM-L6-v2')\n",
    "embeddings = model.encode(corpus)"
   ]
  },
  {
   "cell_type": "code",
   "execution_count": null,
   "id": "2f623acc",
   "metadata": {},
   "outputs": [],
   "source": [
    "methods = ['ACP', 'TSNE', 'UMAP']\n",
    "for method in methods:\n",
    "    # Perform dimensionality reduction\n",
    "    red_emb = dim_red(embeddings, 20, method)\n",
    "\n",
    "    # Perform clustering\n",
    "    \n",
    "    pred = clust(red_emb, k)\n",
    "\n",
    "    # Evaluate clustering results\n",
    "    nmi_score = normalized_mutual_info_score(pred, labels)\n",
    "    ari_score = adjusted_rand_score(pred, labels)\n",
    "\n",
    "    # Print results\n",
    "    print(f'Method: {method}\\nNMI: {nmi_score:.2f} \\nARI: {ari_score:.2f}\\n')"
   ]
  },
  {
   "cell_type": "code",
   "execution_count": 6,
   "id": "747f99c3",
   "metadata": {},
   "outputs": [
    {
     "name": "stderr",
     "output_type": "stream",
     "text": [
      "c:\\python38\\lib\\site-packages\\sklearn\\cluster\\_kmeans.py:1416: FutureWarning: The default value of `n_init` will change from 10 to 'auto' in 1.4. Set the value of `n_init` explicitly to suppress the warning\n",
      "  super()._check_params_vs_input(X, default_n_init=10)\n"
     ]
    }
   ],
   "source": [
    "# perform dimentionality reduction\n",
    "red_emb = dim_red(embeddings, 20)\n",
    "\n",
    "# perform clustering\n",
    "pred = clust(red_emb, k)"
   ]
  },
  {
   "cell_type": "code",
   "execution_count": 7,
   "id": "24bcf28b",
   "metadata": {},
   "outputs": [
    {
     "name": "stdout",
     "output_type": "stream",
     "text": [
      "NMI: 0.48 \n",
      "ARI: 0.29\n"
     ]
    }
   ],
   "source": [
    "# evaluate clustering results\n",
    "nmi_score = normalized_mutual_info_score(pred, labels)\n",
    "ari_score = adjusted_rand_score(pred, labels)\n",
    "\n",
    "print(f'NMI: {nmi_score:.2f} \\nARI: {ari_score:.2f}')\n"
   ]
  }
 ],
 "metadata": {
  "kernelspec": {
   "display_name": "Python 3 (ipykernel)",
   "language": "python",
   "name": "python3"
  },
  "language_info": {
   "codemirror_mode": {
    "name": "ipython",
    "version": 3
   },
   "file_extension": ".py",
   "mimetype": "text/x-python",
   "name": "python",
   "nbconvert_exporter": "python",
   "pygments_lexer": "ipython3",
   "version": "3.8.3"
  }
 },
 "nbformat": 4,
 "nbformat_minor": 5
}
